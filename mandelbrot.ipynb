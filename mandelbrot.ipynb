{
 "cells": [
  {
   "cell_type": "code",
   "execution_count": 6,
   "metadata": {},
   "outputs": [],
   "source": [
    "import numpy as np \n",
    "import matplotlib.pyplot as plt\n",
    "import sympy as sp "
   ]
  },
  {
   "cell_type": "code",
   "execution_count": 50,
   "metadata": {},
   "outputs": [],
   "source": [
    "size = 200\n",
    "A, B = np.meshgrid(np.linspace(-1.5,1.5,size),np.linspace(-2,1,size))\n",
    "C = A+B*1j"
   ]
  },
  {
   "cell_type": "code",
   "execution_count": 51,
   "metadata": {},
   "outputs": [
    {
     "name": "stderr",
     "output_type": "stream",
     "text": [
      "C:\\Users\\vilmo\\AppData\\Local\\Temp\\ipykernel_3252\\1233274914.py:5: RuntimeWarning: overflow encountered in square\n",
      "  a = z**2+C\n",
      "C:\\Users\\vilmo\\AppData\\Local\\Temp\\ipykernel_3252\\1233274914.py:5: RuntimeWarning: invalid value encountered in square\n",
      "  a = z**2+C\n",
      "C:\\Users\\vilmo\\AppData\\Local\\Temp\\ipykernel_3252\\1233274914.py:6: RuntimeWarning: overflow encountered in absolute\n",
      "  amag = np.abs(a)\n",
      "C:\\Users\\vilmo\\AppData\\Local\\Temp\\ipykernel_3252\\1233274914.py:7: RuntimeWarning: overflow encountered in absolute\n",
      "  zmag = np.abs(z)\n"
     ]
    }
   ],
   "source": [
    "z = np.zeros(np.shape(C), dtype=np.complex128)\n",
    "final = np.zeros(np.shape(C), dtype=np.int32)\n",
    "\n",
    "for i in range(100):\n",
    "    a = z**2+C\n",
    "    amag = np.abs(a)\n",
    "    zmag = np.abs(z)\n",
    "    condition = (amag>2) & (zmag<2)\n",
    "    final[condition] = i\n",
    "    z = np.where(~condition, a, z)  # Update z only where the condition is False\n",
    "    z=a"
   ]
  },
  {
   "cell_type": "code",
   "execution_count": 53,
   "metadata": {},
   "outputs": [
    {
     "data": {
      "text/plain": [
       "Text(0.5, 1.0, 'NumPy Matrix Plot')"
      ]
     },
     "execution_count": 53,
     "metadata": {},
     "output_type": "execute_result"
    }
   ],
   "source": [
    "%matplotlib tk\n",
    "plt.imshow(final, cmap='viridis', interpolation='nearest')\n",
    "plt.colorbar(label='Color Scale')\n",
    "plt.title('NumPy Matrix Plot')"
   ]
  },
  {
   "cell_type": "code",
   "execution_count": null,
   "metadata": {},
   "outputs": [],
   "source": []
  }
 ],
 "metadata": {
  "kernelspec": {
   "display_name": "Python 3",
   "language": "python",
   "name": "python3"
  },
  "language_info": {
   "codemirror_mode": {
    "name": "ipython",
    "version": 3
   },
   "file_extension": ".py",
   "mimetype": "text/x-python",
   "name": "python",
   "nbconvert_exporter": "python",
   "pygments_lexer": "ipython3",
   "version": "3.11.3"
  }
 },
 "nbformat": 4,
 "nbformat_minor": 2
}
